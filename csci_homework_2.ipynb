{
 "cells": [
  {
   "cell_type": "markdown",
   "id": "4d7e762c-9fc0-4cd3-b0db-89ca17152808",
   "metadata": {},
   "source": [
    "### Homework 2\n",
    "#### Loops, Functions and Classes\n",
    "\n",
    "1. Do this homework **in order**. \n",
    "2. Be sure to have a solid understanding of Functions before working with Classes.\n",
    "\n",
    "In general, I don't expect deep knowledge of classes in this class. What's covered here is roughly the extent of it. Remember, classes are a tricky concept to master in programming, but they are more straightforward in Python than many other languages. \n",
    "\n",
    "Also, do not hesitate to reach out to me for help! When I first learned to program the concepts covered in assignments like this blew my mind. If you find this difficult, you are not alone! I was once in the same boat as well. "
   ]
  },
  {
   "cell_type": "markdown",
   "id": "691e2265-ff44-4748-b16e-d0a407370fb9",
   "metadata": {},
   "source": [
    "1. (2 pts) Loop through the string and eliminate all the asterisks."
   ]
  },
  {
   "cell_type": "code",
   "execution_count": 89,
   "id": "ae0d2ee2-4281-49ad-84f2-c2abad57067d",
   "metadata": {},
   "outputs": [
    {
     "name": "stdout",
     "output_type": "stream",
     "text": [
      "My computer has gone crazy and added extra symbols.\n"
     ]
    }
   ],
   "source": [
    "asterisk = 'My* compu*ter has go*ne craz***y an*d add*ed extra *symbols.*'\n",
    "text = \"\"\n",
    "\n",
    "for x in asterisk:\n",
    "    if x != '*':\n",
    "        text=text+x\n",
    "\n",
    "print(text)\n",
    "    "
   ]
  },
  {
   "cell_type": "markdown",
   "id": "bdec3ba8-5372-4ad9-a03b-580c04e3a431",
   "metadata": {},
   "source": [
    "2. (1 pt) Write a while loop that increments counter until it reaches 7."
   ]
  },
  {
   "cell_type": "code",
   "execution_count": 90,
   "id": "e333acd1-7e6a-4c8b-a51f-3fba6492bcc9",
   "metadata": {},
   "outputs": [
    {
     "name": "stdout",
     "output_type": "stream",
     "text": [
      "0\n",
      "1\n",
      "2\n",
      "3\n",
      "4\n",
      "5\n",
      "6\n",
      "7\n"
     ]
    }
   ],
   "source": [
    "counter = 0\n",
    "while counter < 7+1:\n",
    "    print(counter)\n",
    "    counter=counter+1\n"
   ]
  },
  {
   "cell_type": "markdown",
   "id": "bddaa2d7-917a-4c11-8ccc-10b926539945",
   "metadata": {},
   "source": [
    "3. (3 pts) Create a function that takes in two numbers.\n",
    "If the numbers are both even add them and return the result.\n",
    "\n",
    "If the numbers are odd, subtract the second number from the first and return the result.\n",
    "\n",
    "(Assume you'll always get integers and if you dont, return a message indicating the input is wrong)"
   ]
  },
  {
   "cell_type": "code",
   "execution_count": 168,
   "id": "7cf1850c-b7a4-4d13-8488-1ffd269fa79b",
   "metadata": {},
   "outputs": [
    {
     "name": "stdout",
     "output_type": "stream",
     "text": [
      "Both numbers must be even or odd\n",
      "232\n",
      "None\n",
      "170\n",
      "None\n",
      "None\n"
     ]
    }
   ],
   "source": [
    "\n",
    "def integer(a,b):\n",
    "  if isinstance(a, int) and isinstance(b, int):\n",
    "    if a % 2 ==0 and b % 2 == 0:\n",
    "      return(a+b)\n",
    "    elif a % 2 != 0 and b % 2 != 0:\n",
    "      return(a-b)\n",
    "    else:\n",
    "      return(\"Both number must be even or odd\")\n",
    "  \n",
    "\n",
    "print(integers(200,33))\n",
    "print(integers(200,32))\n",
    "print(integers(201,31))\n",
    "print(integers(201.3,31.4))\n"
   ]
  },
  {
   "cell_type": "markdown",
   "id": "4fe68a99-b731-4768-804f-87a81099581d",
   "metadata": {},
   "source": [
    "4. (4 pts) Create a function that prints a triangle of asterisks as below. \n",
    "The function accepts n as an integer and makes the longest leg of the triangle that length, decrementing by one until you close the triangle. The function also accepts a direction for the triangle as a variable. If you pass in \"base-up\" it returns the first, but \"base-down\" returns the second.\n",
    "For example, for a triangle where n = 5, the following would be produced:"
   ]
  },
  {
   "cell_type": "code",
   "execution_count": 169,
   "id": "989783e2-c5a8-4eb8-9b27-69c26863f89b",
   "metadata": {},
   "outputs": [
    {
     "name": "stdout",
     "output_type": "stream",
     "text": [
      "*****\n",
      "****\n",
      "***\n",
      "**\n",
      "*\n",
      "\n",
      "*\n",
      "**\n",
      "***\n",
      "****\n",
      "*****\n"
     ]
    }
   ],
   "source": [
    "#Base-up triangle\n",
    "# * * * * *\n",
    "# * * * *\n",
    "# * * *\n",
    "# * *\n",
    "# *\n",
    "\n",
    "#Base-down triangle\n",
    "# *\n",
    "# * *\n",
    "# * * *\n",
    "# * * * *\n",
    "# * * * * *\n",
    "\n",
    "def triangles(n,direction):\n",
    "    if direction == \"base-down\":\n",
    "        # Print the triangle with the base at the bottom\n",
    "        for i in range(1, n + 1):\n",
    "            print('*' * i)\n",
    "    elif direction == \"base-up\":\n",
    "        # Print the triangle with the base at the top\n",
    "        for i in range(n, 0, -1):\n",
    "            print('*' * i)\n",
    "\n",
    "triangles(5, \"base-up\")\n",
    "print()\n",
    "triangles (5, \"base-down\")"
   ]
  },
  {
   "cell_type": "markdown",
   "id": "f5d8735c-5da0-47e3-a2a5-2d99561e6ce9",
   "metadata": {},
   "source": [
    "5. (4 pts) Create a function that accepts a letter. Variables a, b, c, and d all start with a value of 0 and can each have a max value of 8. You need to find and return the value for each that results in the place that letter is in the alphabet. So, for example, if you pass in J, the returned value should be \"a = 8, b = 2, c = 0, and d = 0 for the letter J\". You should provide logical errors for inputs that arent what you expect.  "
   ]
  },
  {
   "cell_type": "code",
   "execution_count": 170,
   "id": "87d2d239-27ef-4ba8-a462-4e03967b359f",
   "metadata": {},
   "outputs": [
    {
     "name": "stdout",
     "output_type": "stream",
     "text": [
      "a = 8, b = 2, c = 0, d = 0 for the letter J\n",
      "a = 8, b = 8, c = 8, d = 2 for the letter Z\n",
      "Error: Input must be a single letter.\n",
      "Error: Input must be a single letter.\n",
      "Error: Input must be a single letter.\n"
     ]
    }
   ],
   "source": [
    "def letter_to_values(letter):\n",
    "    # Ensure the input is a single letter\n",
    "    if not isinstance(letter, str) or len(letter) != 1 or not letter.isalpha():\n",
    "        return \"Error: Input must be a single letter.\"\n",
    "\n",
    "    letter = letter.upper()\n",
    "\n",
    "    position = ord(letter) - ord('A') + 1\n",
    "    \n",
    "    \n",
    "    if position < 1 or position > 26:\n",
    "        return \"Error: Letter out of valid range.\"\n",
    "\n",
    "   \n",
    "    a = b = c = d = 0\n",
    "\n",
    "    \n",
    "    if position <= 8:\n",
    "        a = position\n",
    "    elif position <= 16:\n",
    "        a = 8\n",
    "        b = position - 8\n",
    "    elif position <= 24:\n",
    "        a = 8\n",
    "        b = 8\n",
    "        c = position - 16\n",
    "    else:\n",
    "        a = 8\n",
    "        b = 8\n",
    "        c = 8\n",
    "        d = position - 24\n",
    "    \n",
    "    return f\"a = {a}, b = {b}, c = {c}, d = {d} for the letter {letter}\"\n",
    "\n",
    "\n",
    "print(letter_to_values('J'))  \n",
    "print(letter_to_values('Z'))  \n",
    "print(letter_to_values('1'))  \n",
    "print(letter_to_values('AA')) \n",
    "print(letter_to_values('['))  \n",
    "\n",
    "    "
   ]
  },
  {
   "cell_type": "markdown",
   "id": "9cbe4104-769f-49c0-94d8-8c9750f941bc",
   "metadata": {},
   "source": [
    "6. (3 pts) Add an attribute called `age` to the `__init__` method of the `Person` class.\n",
    "\n",
    "Create an instance of `Person()` and print the `age`."
   ]
  },
  {
   "cell_type": "code",
   "execution_count": 171,
   "id": "d9857301-6a2a-424f-bf03-b8da9bcc483c",
   "metadata": {},
   "outputs": [
    {
     "name": "stdout",
     "output_type": "stream",
     "text": [
      "My age is 18\n"
     ]
    }
   ],
   "source": [
    "class Person():\n",
    "    \n",
    "    def __init__(self, name, occupation, country, age):\n",
    "        self.name = name\n",
    "        self.occupation = occupation\n",
    "        self.country = country\n",
    "        self.age = age\n",
    "    def display(self):\n",
    "        print (f'My age is {self.age}')\n",
    "\n",
    "akshita = Person(name= 'Akshita', occupation= 'student', country= 'USA', age= '18')\n",
    "akshita.display()\n",
    "\n",
    "    "
   ]
  },
  {
   "cell_type": "markdown",
   "id": "4f0f1b43-fefa-4f47-882f-f47800543fa9",
   "metadata": {},
   "source": [
    "7. (3 pts) Add a `static` method of your choice to the class below. \n",
    "\n",
    "Instantiate an object and call your method. \n",
    "\n",
    "What is a static method? (1 pt for your answer here) \n",
    "\n",
    "Static method is a class of code that is used for comparison or validation. It is commonly used for checking if data meets certain conditions without needing an instance of it. "
   ]
  },
  {
   "cell_type": "code",
   "execution_count": 172,
   "id": "8bdb974b-86b6-4376-ac0e-be5982fce59b",
   "metadata": {},
   "outputs": [
    {
     "name": "stdout",
     "output_type": "stream",
     "text": [
      "Meryl Streep: This is my line...\n"
     ]
    }
   ],
   "source": [
    "class actress():\n",
    "    def __init__(self, name = 'Meryl Streep'):\n",
    "        self.name = name\n",
    "        \n",
    "    def act(self, line):\n",
    "        print(f'{self.name}: {line}')\n",
    "        \n",
    "    def movies(genre,n):\n",
    "        if genre == 'romance':\n",
    "            movies = 18\n",
    "        elif genre == 'comedy':\n",
    "            movies = 11\n",
    "        elif genre == 'sad':\n",
    "            movies = 13\n",
    "        else:\n",
    "            movies = 0\n",
    "\n",
    "actress.movies('romance',3)\n",
    "            \n",
    "        \n",
    "meryl = actress()\n",
    "meryl.act('This is my line...')"
   ]
  },
  {
   "cell_type": "markdown",
   "id": "d02a50c2-0df8-47cf-ba86-43c3fe9734e7",
   "metadata": {},
   "source": [
    "8. (5 pts) Create a class called `Dice` that accepts a single argument called `number_of_dice`. \n",
    "\n",
    "Create an instance method called `roll`. \n",
    "\n",
    "`roll` should randomly pick a number for each die when called and print the results as a list. \n",
    "\n",
    "Create an instance of `Dice`. Then call `roll()` on your instance.\n",
    "\n",
    "Hint: Inside your class create an empty list called `dice`."
   ]
  },
  {
   "cell_type": "code",
   "execution_count": 173,
   "id": "417e11af-458f-4307-b69a-ff20a39c9855",
   "metadata": {},
   "outputs": [
    {
     "ename": "IndentationError",
     "evalue": "expected an indented block after function definition on line 7 (951116422.py, line 9)",
     "output_type": "error",
     "traceback": [
      "\u001b[0;36m  Cell \u001b[0;32mIn[173], line 9\u001b[0;36m\u001b[0m\n\u001b[0;31m    print(randrange(1,7)) # randomly generates a number between 1 and 6\u001b[0m\n\u001b[0m                                                                       ^\u001b[0m\n\u001b[0;31mIndentationError\u001b[0m\u001b[0;31m:\u001b[0m expected an indented block after function definition on line 7\n"
     ]
    }
   ],
   "source": [
    "# Helpful starter code\n",
    "from random import randrange\n",
    "class Dice:\n",
    "    def __init__(self, number_of_dice):\n",
    "        self.number_of_dice = number_of_dice\n",
    "        self.dice = []\n",
    "    def roll(self):\n",
    "       \n",
    "print(randrange(1,7)) # randomly generates a number between 1 and 6"
   ]
  },
  {
   "cell_type": "markdown",
   "id": "627197ff-27e6-4839-a5c6-59cd6200d2fb",
   "metadata": {},
   "source": [
    "BONUS: (3 pts) Create a `class` called Car that accepts 3 attributes (make, model and year). \n",
    "\n",
    "In the `__init__` method give your instance those three attributes. \n",
    "\n",
    "Instantiate (create) an object that is your dream car. \n",
    "\n",
    "Print the make of your dream car using the object attributes. \n",
    "\n",
    "Create an appropriate method to return the top speed and call it. \n",
    "\n",
    "Then call the dir() method on your new object. (See your attrs are now included!)"
   ]
  },
  {
   "cell_type": "code",
   "execution_count": null,
   "id": "2ffb5530-620a-43e0-8c48-4c9754f1f1b3",
   "metadata": {},
   "outputs": [
    {
     "name": "stdout",
     "output_type": "stream",
     "text": [
      "The make of my dream car is: Ferrari\n",
      "The top speed of my dream car is: 211 km/h\n",
      "Attributes and methods of the dream car object:\n",
      "['__class__', '__delattr__', '__dict__', '__dir__', '__doc__', '__eq__', '__format__', '__ge__', '__getattribute__', '__getstate__', '__gt__', '__hash__', '__init__', '__init_subclass__', '__le__', '__lt__', '__module__', '__ne__', '__new__', '__reduce__', '__reduce_ex__', '__repr__', '__setattr__', '__sizeof__', '__str__', '__subclasshook__', '__weakref__', 'get_top_speed', 'make', 'model', 'year']\n"
     ]
    }
   ],
   "source": [
    "class Car:\n",
    "    def __init__(self, make, model, year):\n",
    "        self.make = make\n",
    "        self.model = model\n",
    "        self.year = year\n",
    "\n",
    "    def get_top_speed(self):\n",
    "        speed_dict = {\n",
    "            'Ferrari': 211,\n",
    "            'Tesla': 200,\n",
    "            'Porsche': 211,\n",
    "            'Bugatti': 304\n",
    "        }\n",
    "        return speed_dict.get(self.make, 'Unknown')\n",
    "\n",
    "\n",
    "dream_car = Car(make='Ferrari', model='LaFerrari', year=2024)\n",
    "\n",
    "\n",
    "print(f\"The make of my dream car is: {dream_car.make}\")\n",
    "\n",
    "\n",
    "top_speed = dream_car.get_top_speed()\n",
    "print(f\"The top speed of my dream car is: {top_speed} km/h\")\n",
    "\n",
    "\n",
    "print(\"Attributes and methods of the dream car object:\")\n",
    "print(dir(dream_car))\n"
   ]
  }
 ],
 "metadata": {
  "kernelspec": {
   "display_name": "Python 3 (ipykernel)",
   "language": "python",
   "name": "python3"
  },
  "language_info": {
   "codemirror_mode": {
    "name": "ipython",
    "version": 3
   },
   "file_extension": ".py",
   "mimetype": "text/x-python",
   "name": "python",
   "nbconvert_exporter": "python",
   "pygments_lexer": "ipython3",
   "version": "3.12.4"
  }
 },
 "nbformat": 4,
 "nbformat_minor": 5
}
